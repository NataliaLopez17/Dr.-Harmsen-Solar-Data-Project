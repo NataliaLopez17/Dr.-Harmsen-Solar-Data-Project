{
 "cells": [
  {
   "cell_type": "code",
   "execution_count": 1,
   "metadata": {},
   "outputs": [],
   "source": [
    "import time\n",
    "from datetime import datetime\n",
    "import io\n",
    "import sys\n",
    "import os\n",
    "import zipfile\n",
    "import requests\n",
    "from dotenv import load_dotenv\n",
    "from requests.adapters import HTTPAdapter, Retry"
   ]
  },
  {
   "cell_type": "code",
   "execution_count": 2,
   "metadata": {},
   "outputs": [],
   "source": [
    "CONFIG = load_dotenv(\".env\")\n",
    "url_before_2018 = os.getenv(\"URL_BEFORE_2018\")\n",
    "attributes = os.getenv(\"ATTRIBUTES\")\n",
    "wktare = os.getenv(\"WKTARE\")\n",
    "wktadj = os.getenv(\"WKTADJ\")\n",
    "wktagu = os.getenv(\"WKTAGU\")\n",
    "wktsg = os.getenv(\"WKTSG\")\n",
    "wktjun = os.getenv(\"WKTJUN\")\n",
    "default_email = os.getenv(\"EMAIL\")\n",
    "api_key = os.getenv(\"API_KEY\")\n",
    "destination = os.getenv('DESTINATION')\n"
   ]
  },
  {
   "cell_type": "code",
   "execution_count": 3,
   "metadata": {},
   "outputs": [],
   "source": [
    "start=2007\n",
    "end=2007\n",
    "interval=60\n",
    "email= default_email\n",
    "dest = destination\n",
    "items = range(10)\n",
    "\n",
    "start_year = 2007\n",
    "end_year = 2007\n",
    "download_url_list = []\n"
   ]
  },
  {
   "cell_type": "code",
   "execution_count": 4,
   "metadata": {},
   "outputs": [],
   "source": [
    "headers = {\n",
    "    'content-type': \"application/x-www-form-urlencoded\",\n",
    "    'cache-control': \"no-cache\"\n",
    "}"
   ]
  },
  {
   "cell_type": "code",
   "execution_count": null,
   "metadata": {},
   "outputs": [],
   "source": [
    "wk_list = [wktare, wktagu, wktadj, wktsg, wktjun]\n",
    "for i in wk_list:\n",
    "    payload = \"names={}&leap_day=false&interval={}&utc=false&attributes={}&email={}&wkt={}\".format(\n",
    "        start, interval, attributes, email, i)\n",
    "    response = requests.request(\n",
    "        \"POST\", url_after_2018, data=payload, headers=headers)\n",
    "    time.sleep(60)\n",
    "    jsonResponse = response.json()\n",
    "    # print(jsonResponse['outputs']['downloadUrl'])\n",
    "    time.sleep(60)\n",
    "    download_url_list.append(\n",
    "        jsonResponse['outputs']['downloadUrl'])\n",
    "print(download_url_list)\n"
   ]
  },
  {
   "cell_type": "code",
   "execution_count": null,
   "metadata": {},
   "outputs": [],
   "source": [
    "retry_strategy = Retry(total=3, status_forcelist=[404, 400, 405, 403, 429, 500, 502, 503, 504],\n",
    "                       method_whitelist=[\"HEAD\", \"GET\", \"OPTIONS\", \"POST\"], backoff_factor=1)\n",
    "adapter = HTTPAdapter(max_retries=retry_strategy)\n",
    "http = requests.Session()\n",
    "http.mount(\"https://\", adapter)\n",
    "print(\"fetching responses...\")\n",
    "for url in download_url_list:\n",
    "    responses = http.get(url, timeout=10)\n",
    "    print(f\"timeout_http_adapter() responses = {responses}\")\n",
    "    time.sleep(60)"
   ]
  },
  {
   "cell_type": "code",
   "execution_count": null,
   "metadata": {},
   "outputs": [],
   "source": [
    "for i in download_url_list:\n",
    "    solar_res = requests.get(i)\n",
    "    print(solar_res)\n",
    "    with zipfile.ZipFile(io.BytesIO(solar_res.content)) as solar_zip_file:\n",
    "        print(\"downloading zip file to destination....\")\n",
    "        solar_zip_file.extractall(dest)\n"
   ]
  }
 ],
 "metadata": {
  "interpreter": {
   "hash": "f435920ec824e2a044d70cfd552fdb1375e16348746021cad34d0194df1c9a43"
  },
  "kernelspec": {
   "display_name": "Python 3.9.7 64-bit ('solarData': conda)",
   "language": "python",
   "name": "python3"
  },
  "language_info": {
   "codemirror_mode": {
    "name": "ipython",
    "version": 3
   },
   "file_extension": ".py",
   "mimetype": "text/x-python",
   "name": "python",
   "nbconvert_exporter": "python",
   "pygments_lexer": "ipython3",
   "version": "3.9.7"
  },
  "orig_nbformat": 4
 },
 "nbformat": 4,
 "nbformat_minor": 2
}
