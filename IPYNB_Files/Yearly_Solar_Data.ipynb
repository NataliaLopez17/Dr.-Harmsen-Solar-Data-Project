{
 "cells": [
  {
   "cell_type": "code",
   "execution_count": 1,
   "metadata": {},
   "outputs": [],
   "source": [
    "import time\n",
    "from datetime import datetime\n",
    "import io\n",
    "import sys\n",
    "import os\n",
    "import zipfile\n",
    "import requests\n",
    "from dotenv import load_dotenv\n",
    "from requests.adapters import HTTPAdapter, Retry"
   ]
  },
  {
   "cell_type": "code",
   "execution_count": 2,
   "metadata": {},
   "outputs": [],
   "source": [
    "CONFIG = load_dotenv(\".env\")\n",
    "url_after_2018 = os.getenv(\"URL_AFTER_2018\")\n",
    "attributes = os.getenv(\"ATTRIBUTES\")\n",
    "wktnw = os.getenv(\"WKTNW\")\n",
    "wktne = os.getenv(\"WKTNE\")\n",
    "wktsw = os.getenv(\"WKTSW\")\n",
    "wktse = os.getenv(\"WKTSE\")\n",
    "wktc = os.getenv(\"WKTC\")\n",
    "wktv = os.getenv(\"WKTV\")\n",
    "default_email = os.getenv(\"EMAIL\")\n",
    "api_key = os.getenv(\"API_KEY\")\n",
    "destination = os.getenv('DESTINATION')"
   ]
  },
  {
   "cell_type": "code",
   "execution_count": 4,
   "metadata": {},
   "outputs": [
    {
     "name": "stdout",
     "output_type": "stream",
     "text": [
      "[]\n"
     ]
    }
   ],
   "source": [
    "start=2019\n",
    "end=2019\n",
    "interval=15\n",
    "email= default_email\n",
    "dest = destination\n",
    "items = range(10)\n",
    "\n",
    "start_year = 2019\n",
    "end_year = 2019\n",
    "download_url_list = []\n",
    "print(download_url_list)\n"
   ]
  },
  {
   "cell_type": "code",
   "execution_count": 5,
   "metadata": {},
   "outputs": [],
   "source": [
    "headers = {\n",
    "    'content-type': \"application/x-www-form-urlencoded\",\n",
    "    'cache-control': \"no-cache\"\n",
    "}"
   ]
  },
  {
   "cell_type": "code",
   "execution_count": 7,
   "metadata": {},
   "outputs": [
    {
     "name": "stdout",
     "output_type": "stream",
     "text": [
      "{'inputs': {'body': {'names': '2019', 'leap_day': 'false', 'interval': '15', 'utc': 'false', 'attributes': 'ghi,dni,wind_speed,air_temperature,relative_humidity', 'email': 'natalia.lopez17@upr.edu', 'wkt': 'POLYGON((-65.35 18.27,-65.35 18.35,-65.21 18.35,-65.21 18.27,-65.35 18.27))'}, 'params': {}, 'query': {}}, 'metadata': {'version': '2.0.0'}, 'status': 400, 'errors': ['Request size exceeds maximum limit for single request.', 'See https://developer.nrel.gov/docs/solar/nsrdb/guide/', 'Data processing failure.']}\n"
     ]
    }
   ],
   "source": [
    "wk_list = [wktc, wktne, wktnw, wktse, wktsw, wktv]\n",
    "for i in wk_list:\n",
    "    payload = \"names={}&leap_day=false&interval={}&utc=false&attributes={}&email={}&wkt={}\".format(\n",
    "        start, interval, attributes, email, i)\n",
    "    response = requests.request(\n",
    "        \"POST\", url_after_2018, data=payload, headers=headers)\n",
    "    time.sleep(60)\n",
    "    jsonResponse = response.json()\n",
    "    print(jsonResponse)\n",
    "    # print(jsonResponse['outputs']['downloadUrl'])\n",
    "    time.sleep(60)\n",
    "    download_url_list.append(\n",
    "        jsonResponse['outputs']['downloadUrl'])\n",
    "print(download_url_list)\n"
   ]
  },
  {
   "cell_type": "code",
   "execution_count": null,
   "metadata": {},
   "outputs": [],
   "source": [
    "retry_strategy = Retry(total=3, status_forcelist=[404, 400, 405, 403, 429, 500, 502, 503, 504],\n",
    "                       method_whitelist=[\"HEAD\", \"GET\", \"OPTIONS\", \"POST\"], backoff_factor=1)\n",
    "adapter = HTTPAdapter(max_retries=retry_strategy)\n",
    "http = requests.Session()\n",
    "http.mount(\"https://\", adapter)\n",
    "print(\"fetching responses...\")\n",
    "for url in download_url_list:\n",
    "    responses = http.get(url, timeout=10)\n",
    "    print(f\"timeout_http_adapter() responses = {responses}\")\n",
    "    time.sleep(60)"
   ]
  },
  {
   "cell_type": "code",
   "execution_count": null,
   "metadata": {},
   "outputs": [],
   "source": [
    "for i in download_url_list:\n",
    "    solar_res = requests.get(i)\n",
    "    print(solar_res)\n",
    "    with zipfile.ZipFile(io.BytesIO(solar_res.content)) as solar_zip_file:\n",
    "        print(\"downloading zip file to destination....\")\n",
    "        solar_zip_file.extractall(dest)\n"
   ]
  }
 ],
 "metadata": {
  "kernelspec": {
   "display_name": "solarData",
   "language": "python",
   "name": "python3"
  },
  "language_info": {
   "codemirror_mode": {
    "name": "ipython",
    "version": 3
   },
   "file_extension": ".py",
   "mimetype": "text/x-python",
   "name": "python",
   "nbconvert_exporter": "python",
   "pygments_lexer": "ipython3",
   "version": "3.9.7"
  },
  "orig_nbformat": 4,
  "vscode": {
   "interpreter": {
    "hash": "26169997774188913528129c585e07895cdddee0c516055b04c1e80ef12a365c"
   }
  }
 },
 "nbformat": 4,
 "nbformat_minor": 2
}
