{
 "cells": [
  {
   "cell_type": "code",
   "execution_count": 1,
   "metadata": {},
   "outputs": [],
   "source": [
    "import pandas as pd\n",
    "import glob\n",
    "import os\n"
   ]
  },
  {
   "cell_type": "code",
   "execution_count": null,
   "metadata": {},
   "outputs": [],
   "source": [
    "files_GHI_2007 = glob.glob(r\"D:\\Users\\viaje\\OneDrive - University of Puerto Rico\\SAGA5008\\Proyecto_Final\\Parsed_Files\\2007GHI\\GHI*.csv\")\n",
    "files_DNI_2007 = glob.glob(r\"D:\\Users\\viaje\\OneDrive - University of Puerto Rico\\SAGA5008\\Proyecto_Final\\Parsed_Files\\2007DNI\\DNI*.csv\")\n",
    "files_DHI_2007 = glob.glob(r\"D:\\Users\\viaje\\OneDrive - University of Puerto Rico\\SAGA5008\\Proyecto_Final\\Parsed_Files\\2007DHI\\DHI*.csv\")"
   ]
  },
  {
   "cell_type": "code",
   "execution_count": null,
   "metadata": {},
   "outputs": [],
   "source": [
    "df_GHI_2007 = pd.concat((pd.read_csv(file,header=None, names=[\n",
    "    'VALUE','EASTING','NORTHING'], delim_whitespace=True) for file in files_GHI))\n",
    "print(df)"
   ]
  },
  {
   "cell_type": "code",
   "execution_count": null,
   "metadata": {},
   "outputs": [],
   "source": [
    "df_GHI.to_csv(\n",
    "    r\"D:\\Users\\viaje\\OneDrive - University of Puerto Rico\\SAGA5008\\Proyecto_Final\\Parsed_Files\\2007_Merged_Files\\2007_Merged_GHI.csv\", index=False)\n"
   ]
  },
  {
   "cell_type": "code",
   "execution_count": null,
   "metadata": {},
   "outputs": [],
   "source": [
    "df_DNI_2007 = pd.concat((pd.read_csv(file, header=None, names=[\n",
    "               'VALUE', 'EASTING', 'NORTHING'], delim_whitespace=True) for file in files_DNI))\n",
    "print(df)\n"
   ]
  },
  {
   "cell_type": "code",
   "execution_count": null,
   "metadata": {},
   "outputs": [],
   "source": [
    "df_DNI.to_csv(\n",
    "    r\"D:\\Users\\viaje\\OneDrive - University of Puerto Rico\\SAGA5008\\Proyecto_Final\\Parsed_Files\\2007_Merged_Files\\2007_Merged_DNI.csv\", index=False)\n"
   ]
  },
  {
   "cell_type": "code",
   "execution_count": null,
   "metadata": {},
   "outputs": [],
   "source": [
    "df_DHI_2007 = pd.concat((pd.read_csv(file, header=None, names=[\n",
    "               'VALUE', 'EASTING', 'NORTHING'], delim_whitespace=True) for file in files_DHI))\n",
    "print(df)\n"
   ]
  },
  {
   "cell_type": "code",
   "execution_count": null,
   "metadata": {},
   "outputs": [],
   "source": [
    "df_DHI.to_csv(\n",
    "    r\"D:\\Users\\viaje\\OneDrive - University of Puerto Rico\\SAGA5008\\Proyecto_Final\\Parsed_Files\\2007_Merged_Files\\2007_Merged_DHI.csv\", index=False\n",
    "    )\n"
   ]
  },
  {
   "cell_type": "code",
   "execution_count": 2,
   "metadata": {},
   "outputs": [],
   "source": [
    "files_AIRTEMP_2012 = glob.glob(r\"D:\\Users\\viaje\\OneDrive - University of Puerto Rico\\SAGA5008\\Proyecto_Final\\Parsed_Files\\2012Air Temperature\\Air Temperature*.csv\")\n",
    "files_GHI_2012 = glob.glob(r\"D:\\Users\\viaje\\OneDrive - University of Puerto Rico\\SAGA5008\\Proyecto_Final\\Parsed_Files\\2012GHI\\GHI*.csv\")\n",
    "files_DNI_2012 = glob.glob(r\"D:\\Users\\viaje\\OneDrive - University of Puerto Rico\\SAGA5008\\Proyecto_Final\\Parsed_Files\\2012DNI\\DNI*.csv\")\n",
    "files_DHI_2012 = glob.glob(r\"D:\\Users\\viaje\\OneDrive - University of Puerto Rico\\SAGA5008\\Proyecto_Final\\Parsed_Files\\2012DHI\\DHI*.csv\")"
   ]
  },
  {
   "cell_type": "code",
   "execution_count": 5,
   "metadata": {},
   "outputs": [
    {
     "name": "stdout",
     "output_type": "stream",
     "text": [
      "     VALUE    EASTING   NORTHING\n",
      "0    25.62  18.059999 -67.029999\n",
      "1    25.62  18.059999 -67.010002\n",
      "2    25.62  18.059999 -66.989998\n",
      "3    25.62  18.059999 -66.970001\n",
      "4    25.04  18.080000 -67.089996\n",
      "..     ...        ...        ...\n",
      "219  26.04  18.480000 -66.669998\n",
      "220  26.04  18.480000 -66.650002\n",
      "221  26.04  18.480000 -66.629997\n",
      "222  25.88  18.480000 -66.610001\n",
      "223  25.88  18.480000 -66.589996\n",
      "\n",
      "[81533 rows x 3 columns]\n"
     ]
    }
   ],
   "source": [
    "df_AIRTEMP_2012 = pd.concat((pd.read_csv(file,header=None, names=[\n",
    "    'VALUE','EASTING','NORTHING'], delim_whitespace=True) for file in files_AIRTEMP_2012))\n",
    "print(df_AIRTEMP_2012)"
   ]
  },
  {
   "cell_type": "code",
   "execution_count": 6,
   "metadata": {},
   "outputs": [],
   "source": [
    "df_AIRTEMP_2012.to_csv(\n",
    "    r\"D:\\Users\\viaje\\OneDrive - University of Puerto Rico\\SAGA5008\\Proyecto_Final\\Parsed_Files\\2012_Merged_Files\\2012_Merged_AIRTEMP.csv\", index=False)\n"
   ]
  },
  {
   "cell_type": "code",
   "execution_count": 7,
   "metadata": {},
   "outputs": [
    {
     "name": "stdout",
     "output_type": "stream",
     "text": [
      "      VALUE    EASTING   NORTHING\n",
      "0    212.25  18.059999 -67.029999\n",
      "1    212.92  18.059999 -67.010002\n",
      "2    220.12  18.059999 -66.989998\n",
      "3    220.00  18.059999 -66.970001\n",
      "4    175.21  18.080000 -67.089996\n",
      "..      ...        ...        ...\n",
      "219  216.88  18.480000 -66.669998\n",
      "220  216.88  18.480000 -66.650002\n",
      "221  217.04  18.480000 -66.629997\n",
      "222  217.17  18.480000 -66.610001\n",
      "223  217.25  18.480000 -66.589996\n",
      "\n",
      "[81533 rows x 3 columns]\n"
     ]
    }
   ],
   "source": [
    "df_GHI_2012 = pd.concat((pd.read_csv(file,header=None, names=[\n",
    "    'VALUE','EASTING','NORTHING'], delim_whitespace=True) for file in files_GHI_2012))\n",
    "print(df_GHI_2012)\n"
   ]
  },
  {
   "cell_type": "code",
   "execution_count": 8,
   "metadata": {},
   "outputs": [],
   "source": [
    "df_GHI_2012.to_csv(\n",
    "    r\"D:\\Users\\viaje\\OneDrive - University of Puerto Rico\\SAGA5008\\Proyecto_Final\\Parsed_Files\\2012_Merged_Files\\2012_Merged_GHI.csv\", index=False)\n"
   ]
  },
  {
   "cell_type": "code",
   "execution_count": 9,
   "metadata": {},
   "outputs": [
    {
     "name": "stdout",
     "output_type": "stream",
     "text": [
      "     VALUE    EASTING   NORTHING\n",
      "0    55.71  18.059999 -67.089996\n",
      "1    52.62  18.059999 -67.070000\n",
      "2    52.71  18.059999 -67.050003\n",
      "3    46.75  18.059999 -67.029999\n",
      "4    46.54  18.059999 -67.010002\n",
      "..     ...        ...        ...\n",
      "219  36.17  18.480000 -66.669998\n",
      "220  36.17  18.480000 -66.650002\n",
      "221  36.58  18.480000 -66.629997\n",
      "222  36.79  18.480000 -66.610001\n",
      "223  36.88  18.480000 -66.589996\n",
      "\n",
      "[81536 rows x 3 columns]\n"
     ]
    }
   ],
   "source": [
    "df_DHI_2012 = pd.concat((pd.read_csv(file,header=None, names=[\n",
    "    'VALUE','EASTING','NORTHING'], delim_whitespace=True) for file in files_DHI_2012))\n",
    "print(df_DHI_2012)\n"
   ]
  },
  {
   "cell_type": "code",
   "execution_count": 10,
   "metadata": {},
   "outputs": [],
   "source": [
    "df_DHI_2012.to_csv(\n",
    "    r\"D:\\Users\\viaje\\OneDrive - University of Puerto Rico\\SAGA5008\\Proyecto_Final\\Parsed_Files\\2012_Merged_Files\\2012_Merged_DHI.csv\", index=False)\n"
   ]
  },
  {
   "cell_type": "code",
   "execution_count": 11,
   "metadata": {},
   "outputs": [
    {
     "name": "stdout",
     "output_type": "stream",
     "text": [
      "      VALUE    EASTING   NORTHING\n",
      "0    312.54  18.059999 -67.029999\n",
      "1    314.04  18.059999 -67.010002\n",
      "2    336.25  18.059999 -66.989998\n",
      "3    336.04  18.059999 -66.970001\n",
      "4    223.21  18.080000 -67.089996\n",
      "..      ...        ...        ...\n",
      "219  332.96  18.480000 -66.669998\n",
      "220  332.92  18.480000 -66.650002\n",
      "221  332.42  18.480000 -66.629997\n",
      "222  332.12  18.480000 -66.610001\n",
      "223  331.92  18.480000 -66.589996\n",
      "\n",
      "[81533 rows x 3 columns]\n"
     ]
    }
   ],
   "source": [
    "df_DNI_2012 = pd.concat((pd.read_csv(file,header=None, names=[\n",
    "    'VALUE','EASTING','NORTHING'], delim_whitespace=True) for file in files_DNI_2012))\n",
    "print(df_DNI_2012)\n"
   ]
  },
  {
   "cell_type": "code",
   "execution_count": null,
   "metadata": {},
   "outputs": [],
   "source": [
    "df_DNI_2012.to_csv(\n",
    "    r\"D:\\Users\\viaje\\OneDrive - University of Puerto Rico\\SAGA5008\\Proyecto_Final\\Parsed_Files\\2012_Merged_Files\\2012_Merged_DNI.csv\", index=False)\n"
   ]
  }
 ],
 "metadata": {
  "interpreter": {
   "hash": "f435920ec824e2a044d70cfd552fdb1375e16348746021cad34d0194df1c9a43"
  },
  "kernelspec": {
   "display_name": "Python 3.8.8 ('solarData')",
   "language": "python",
   "name": "python3"
  },
  "language_info": {
   "codemirror_mode": {
    "name": "ipython",
    "version": 3
   },
   "file_extension": ".py",
   "mimetype": "text/x-python",
   "name": "python",
   "nbconvert_exporter": "python",
   "pygments_lexer": "ipython3",
   "version": "3.9.7"
  },
  "orig_nbformat": 4
 },
 "nbformat": 4,
 "nbformat_minor": 2
}
