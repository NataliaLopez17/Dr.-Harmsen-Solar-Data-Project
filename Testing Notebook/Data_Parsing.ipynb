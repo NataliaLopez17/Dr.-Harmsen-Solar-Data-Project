{
 "cells": [
  {
   "cell_type": "markdown",
   "metadata": {},
   "source": [
    "# Data Parsing \n",
    "\n",
    "## The following cells will be debugging and development for a data parsing script utilizing pandas and system commands to access, create, and organize files. "
   ]
  },
  {
   "cell_type": "code",
   "execution_count": 1,
   "metadata": {},
   "outputs": [],
   "source": [
    "\n",
    "import warnings\n",
    "warnings.simplefilter(action='ignore', category=FutureWarning)\n",
    "\n",
    "import pandas as pd\n",
    "import datetime\n",
    "import glob\n",
    "import sys\n",
    "import os\n",
    "import time\n",
    "\n"
   ]
  },
  {
   "cell_type": "code",
   "execution_count": 2,
   "metadata": {},
   "outputs": [],
   "source": [
    "custom_date_parser = lambda x,y,z,a,b: datetime.datetime.strptime(f\"{x} {y} {z} {a} {b}\", \"%Y %m %d %H %M\")\n"
   ]
  },
  {
   "cell_type": "code",
   "execution_count": 3,
   "metadata": {},
   "outputs": [],
   "source": [
    "data_dir = f\"..\\\\Data\\\\\"\n"
   ]
  },
  {
   "cell_type": "code",
   "execution_count": 4,
   "metadata": {},
   "outputs": [],
   "source": [
    "# Create the DataFrame that will be utilized to store all of the parsed data.\n",
    "BigDF = pd.DataFrame()\n",
    "# Store all of the files as a list, in order to access it in the loop appropriately.\n",
    "files = glob.glob(f\"../NREL Data/**/*{2020}.csv\", recursive=True)\n",
    "def dateparse(x): return pd.datetime.strptime(x, '%Y %m %d %H %M')"
   ]
  },
  {
   "cell_type": "code",
   "execution_count": 5,
   "metadata": {},
   "outputs": [
    {
     "name": "stdout",
     "output_type": "stream",
     "text": [
      "                                      GHI         DNI  Wind Speed  \\\n",
      "Date       Latitude Longitude                                       \n",
      "2020-01-01 17.90    -67.29     218.114583  346.333333    2.484375   \n",
      "                    -67.27     218.062500  345.937500    2.452083   \n",
      "                    -67.25     218.020833  345.520833    2.419792   \n",
      "                    -67.23     217.906250  345.000000    2.387500   \n",
      "                    -67.21     217.739583  344.479167    2.350000   \n",
      "...                                   ...         ...         ...   \n",
      "2020-12-31 18.52    -66.47     199.375000  284.270833    6.078125   \n",
      "                    -66.45     208.593750  302.895833    6.081250   \n",
      "                    -66.43     200.531250  285.958333    6.083333   \n",
      "                    -66.41     192.625000  268.500000    6.081250   \n",
      "                    -66.39     189.125000  266.708333    6.080208   \n",
      "\n",
      "                               Temperature  Relative Humidity  \n",
      "Date       Latitude Longitude                                  \n",
      "2020-01-01 17.90    -67.29       27.414583          80.866042  \n",
      "                    -67.27       27.432292          80.680521  \n",
      "                    -67.25       27.455208          80.479375  \n",
      "                    -67.23       27.480208          80.265625  \n",
      "                    -67.21       27.515625          80.006146  \n",
      "...                                    ...                ...  \n",
      "2020-12-31 18.52    -66.47       26.614583          76.120729  \n",
      "                    -66.45       26.604167          76.143646  \n",
      "                    -66.43       26.596875          76.154896  \n",
      "                    -66.41       26.586458          76.180417  \n",
      "                    -66.39       26.579167          76.193333  \n",
      "\n",
      "[1051565 rows x 5 columns]\n",
      "Elapsed time parsed data:  221.3304958343506\n"
     ]
    }
   ],
   "source": [
    "for index in range(0, len(files)):\n",
    "    start = time.time()\n",
    "    if len(files) > 2:\n",
    "        DataFile = files.pop()\n",
    "        DataFile2 = files.pop()\n",
    "        Csv_DF = pd.read_csv(DataFile, header=[2], parse_dates={\n",
    "            'Date': [0, 1, 2, 3, 4]}, date_parser=dateparse)\n",
    "        Lat_Lon_DF1 = pd.read_csv(DataFile, nrows=1)\n",
    "        Csv_DF[\"Longitude\"] = Lat_Lon_DF1.Longitude[0]\n",
    "        Csv_DF[\"Latitude\"] = Lat_Lon_DF1.Latitude[0]\n",
    "        Csv_DF2 = pd.read_csv(DataFile2, header=[2], parse_dates={\n",
    "            'Date': [0, 1, 2, 3, 4]}, date_parser=dateparse)\n",
    "        Lat_Lon_DF2 = pd.read_csv(DataFile2, nrows=1)\n",
    "        Csv_DF2[\"Longitude\"] = Lat_Lon_DF2.Longitude[0]\n",
    "        Csv_DF2[\"Latitude\"] = Lat_Lon_DF2.Latitude[0]\n",
    "        BigDF = BigDF.append([Csv_DF, Csv_DF2])\n",
    "        # print(BigDF)\n",
    "    elif len(files) == 1:\n",
    "        DataFile = files.pop()\n",
    "        Csv_DF = pd.read_csv(DataFile, header=[2], parse_dates={\n",
    "            'Date': [0, 1, 2, 3, 4]}, date_parser=dateparse)\n",
    "        Lat_Lon_DF1 = pd.read_csv(DataFile, nrows=1)\n",
    "        Csv_DF[\"Longitude\"] = Lat_Lon_DF1.Longitude[0]\n",
    "        Csv_DF[\"Latitude\"] = Lat_Lon_DF1.Latitude[0]\n",
    "        BigDF = BigDF.append([Csv_DF])\n",
    "        # print(BigDF)\n",
    "\n",
    "Parsed_Data = BigDF.groupby(\n",
    "    [pd.Grouper(key=\"Date\", freq='1D'), \"Latitude\", \"Longitude\"]).mean()\n",
    "# Parsed_Data = Parsed_Data.round(2)\n",
    "print(Parsed_Data)\n",
    "\n",
    "end = time.time()\n",
    "print(\"Elapsed time parsed data: \", (end - start))\n"
   ]
  },
  {
   "cell_type": "code",
   "execution_count": 13,
   "metadata": {},
   "outputs": [
    {
     "name": "stdout",
     "output_type": "stream",
     "text": [
      "Elapsed time making directory:  0.0010056495666503906\n",
      "Elapsed time making directory:  0.0009944438934326172\n",
      "Elapsed time making directory:  0.0009930133819580078\n",
      "Elapsed time making directory:  0.0\n",
      "Elapsed time making directory:  0.000997304916381836\n"
     ]
    }
   ],
   "source": [
    "Values_To_Parse = [\"DNI\", \"GHI\", \"Relative Humidity\", \"Wind Speed\", \"Temperature\"]\n",
    "for name in Values_To_Parse:\n",
    "    start = time.time()\n",
    "    if not os.path.isdir(data_dir+\"2020\"+name):\n",
    "        os.makedirs(data_dir+\"2020\"+name)\n",
    "    else:\n",
    "        continue\n",
    "    end = time.time()\n",
    "    print(\"Elapsed time making directory: \", (end - start))\n"
   ]
  },
  {
   "cell_type": "code",
   "execution_count": 19,
   "metadata": {},
   "outputs": [
    {
     "name": "stdout",
     "output_type": "stream",
     "text": [
      "           value  latitude  longitude\n",
      "0     296.229167     17.90     -67.27\n",
      "1     277.593750     17.90     -67.25\n",
      "2     288.666667     17.90     -67.23\n",
      "3     303.312500     17.90     -67.21\n",
      "4     299.833333     17.90     -67.19\n",
      "...          ...       ...        ...\n",
      "2875  284.270833     18.52     -66.47\n",
      "2876  302.895833     18.52     -66.45\n",
      "2877  285.958333     18.52     -66.43\n",
      "2878  268.500000     18.52     -66.41\n",
      "2879  266.708333     18.52     -66.39\n",
      "\n",
      "[2880 rows x 3 columns]\n"
     ]
    }
   ],
   "source": [
    "Values_To_Parse = [\"DNI\"]\n",
    "expected_date = datetime.date(int(2020), 1, 1)\n",
    "day_offset = datetime.timedelta(days=1)\n",
    "for Value in Values_To_Parse:\n",
    "    start = time.time()\n",
    "    Data = pd.DataFrame(columns=['value', 'latitude', 'longitude'])\n",
    "    for rowIndex, row in Parsed_Data.iterrows():\n",
    "        if rowIndex[0].date() == expected_date:\n",
    "            Data = Data.append({'value': row[Value], 'latitude':\n",
    "                                rowIndex[1], 'longitude': rowIndex[2]}, ignore_index=True)\n",
    "        elif expected_date.year > rowIndex[0].date().year and expected_date.day >= 2:\n",
    "            expected_date = datetime.date(int(2020), 1, 1)\n",
    "            continue\n",
    "        else:\n",
    "            Data.to_csv(\n",
    "                path_or_buf=f\"{data_dir}{rowIndex[0].strftime('%Y')}{Value}/{Value}{expected_date.strftime('%Y%j')}.csv\",\n",
    "                header=True, index=False, sep=',', mode='w', encoding='utf-8')\n",
    "            Data.drop(index=Data.index, inplace=True)\n",
    "            expected_date = expected_date+day_offset\n",
    "    print(Data)\n"
   ]
  },
  {
   "cell_type": "code",
   "execution_count": null,
   "metadata": {},
   "outputs": [],
   "source": [
    "expected_date = datetime.date(int(2020), 1, 1)\n",
    "Values_To_Parse = [\"DNI\", \"GHI\",\n",
    "                   \"Relative Humidity\", \"Temperature\", \"Wind Speed\"]\n",
    "day_offset = datetime.timedelta(days=1)\n",
    "for Value in Values_To_Parse:\n",
    "    start = time.time()\n",
    "    Data = pd.DataFrame(columns=['value', 'latitude', 'longitude'])\n",
    "    for rowIndex, row in Parsed_Data.iterrows():\n",
    "        # print(f\"rowIndex[0] = {rowIndex[0]}\")\n",
    "        # print(f\"rowIndex[1] = {rowIndex[1]}\")\n",
    "        # print(f\"rowIndex[2] = {rowIndex[2]}\")\n",
    "        # print(f\"row = {row}\")\n",
    "        if rowIndex[0].date() == expected_date:\n",
    "            Data = Data.append({'value': row[Value], 'latitude':\n",
    "                                rowIndex[1], 'longitude': rowIndex[2]}, ignore_index=True)\n",
    "            # print(Data)\n",
    "        elif expected_date.year > rowIndex[0].date().year and expected_date.day >= 2:\n",
    "            expected_date = datetime.date(int(2020), 1, 1)\n",
    "            # print(f\"Expected date: {expected_date}\")\n",
    "            continue\n",
    "        else:\n",
    "            Data.to_csv(\n",
    "                path_or_buf=f\"{data_dir}{rowIndex[0].strftime('%Y')}{Value}/{Value}{expected_date.strftime('%Y%j')}.csv\",\n",
    "                header=False, index=False, sep='')\n",
    "            Data.drop(index=Data.index, inplace=True)\n",
    "            expected_date = expected_date+day_offset\n",
    "            # print(f\"This is the expected date after the offset: {expected_date}\")\n",
    "    print(Data)\n"
   ]
  }
 ],
 "metadata": {
  "kernelspec": {
   "display_name": "solarData",
   "language": "python",
   "name": "python3"
  },
  "language_info": {
   "codemirror_mode": {
    "name": "ipython",
    "version": 3
   },
   "file_extension": ".py",
   "mimetype": "text/x-python",
   "name": "python",
   "nbconvert_exporter": "python",
   "pygments_lexer": "ipython3",
   "version": "3.9.7"
  },
  "orig_nbformat": 4,
  "vscode": {
   "interpreter": {
    "hash": "26169997774188913528129c585e07895cdddee0c516055b04c1e80ef12a365c"
   }
  }
 },
 "nbformat": 4,
 "nbformat_minor": 2
}
