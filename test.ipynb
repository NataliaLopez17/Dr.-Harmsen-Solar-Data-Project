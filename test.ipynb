{
 "cells": [
  {
   "cell_type": "code",
   "execution_count": 6,
   "metadata": {},
   "outputs": [],
   "source": [
    "import requests\n"
   ]
  },
  {
   "cell_type": "code",
   "execution_count": 7,
   "metadata": {},
   "outputs": [],
   "source": [
    "xmnNW=-67.29\n",
    "xmxNW=-66.39\n",
    "ymnNW=18.20\n",
    "ymxNW=18.52\n",
    "#WKTNW=POLYGON((${xmnNW} ${ymnNW},${xmnNW} ${ymxNW},${xmxNW} ${ymxNW},${xmxNW} ${ymnNW},${xmnNW} ${ymnNW}))\n",
    "\n",
    "xmnSW=-67.29\n",
    "xmxSW=-66.39\n",
    "ymnSW=17.89\n",
    "ymxSW=18.20\n",
    "#WKTSW=POLYGON((${xmnSW} ${ymnSW},${xmnSW} ${ymxSW},${xmxSW} ${ymxSW},${xmxSW} ${ymnSW},${xmnSW} ${ymnSW}))\n",
    "\n",
    "xmnNE=-66.39\n",
    "xmxNE=-65.54\n",
    "ymnNE=18.21\n",
    "ymxNE=18.50\n",
    "#WKTNE=POLYGON((${xmnNE} ${ymnNE},${xmnNE} ${ymxNE},${xmxNE} ${ymxNE},${xmxNE} ${ymnNE},${xmnNE} ${ymnNE}))\n",
    "\n",
    "xmnSE=-66.39\n",
    "xmxSE=-65.54\n",
    "ymnSE=17.89\n",
    "ymxSE=18.22\n",
    "#WKTSE=POLYGON((${xmnSE} ${ymnSE},${xmnSE} ${ymxSE},${xmxSE} ${ymxSE},${xmxSE} ${ymnSE},${xmnSE} ${ymnSE}))\n",
    "\n",
    "xmnC=-65.35\n",
    "xmxC=-65.21\n",
    "ymnC=18.27\n",
    "ymxC=18.35\n",
    "#WKTC=POLYGON((${xmnC} ${ymnC},${xmnC} ${ymxC},${xmxC} ${ymxC},${xmxC} ${ymnC},${xmnC} ${ymnC}))\n",
    "\n",
    "xmnV=-65.58\n",
    "xmxV=-65.25\n",
    "ymnV=18.07\n",
    "ymxV=18.17\n",
    "#WKTV=POLYGON((${xmnV} ${ymnV},${xmnV} ${ymxV},${xmxV} ${ymxV},${xmxV} ${ymnV},${xmnV} ${ymnV}))\n"
   ]
  },
  {
   "cell_type": "code",
   "execution_count": 8,
   "metadata": {},
   "outputs": [
    {
     "name": "stdout",
     "output_type": "stream",
     "text": [
      "response =  <Response [200]>\n",
      "jsonResponse =  {'inputs': {'body': {}, 'params': {}, 'query': {'wkt': 'POLYGON((${xmnNW} ${ymnNW},${xmnNW} ${ymxNW},${xmxNW} ${ymxNW},${xmxNW} ${ymnNW},${xmnNW} ${ymnNW}))'}}, 'metadata': {'version': '2.0.0'}, 'status': 200, 'errors': ['Failed to fetch site counts.']}\n"
     ]
    }
   ],
   "source": [
    "URL = \"https://developer.nrel.gov/api/nsrdb/v2/site-count.json?api_key=ra5hzpJvFilKt4J9Krwlr5fkrdwLutyeBy7gA9vG&wkt=POLYGON((${xmnNW} ${ymnNW},${xmnNW} ${ymxNW},${xmxNW} ${ymxNW},${xmxNW} ${ymnNW},${xmnNW} ${ymnNW}))\"\n",
    "response = requests.post(URL)\n",
    "print(\"response = \", response)\n",
    "jsonResponse = response.json()\n",
    "print(\"jsonResponse = \", jsonResponse)\n"
   ]
  },
  {
   "cell_type": "code",
   "execution_count": null,
   "metadata": {},
   "outputs": [],
   "source": [
    "URL = \"https://developer.nrel.gov/api/nsrdb/v2/site-count.json?api_key=ra5hzpJvFilKt4J9Krwlr5fkrdwLutyeBy7gA9vG&wkt=POLYGON((${xmnSW} ${ymnSW},${xmnSW} ${ymxSW},${xmxSW} ${ymxSW},${xmxSW} ${ymnSW},${xmnSW} ${ymnSW}))\"\n"
   ]
  },
  {
   "cell_type": "code",
   "execution_count": null,
   "metadata": {},
   "outputs": [],
   "source": [
    "URL = \"https://developer.nrel.gov/api/nsrdb/v2/site-count.json?api_key=ra5hzpJvFilKt4J9Krwlr5fkrdwLutyeBy7gA9vG&wkt=POLYGON((${xmnNE} ${ymnNE},${xmnNE} ${ymxNE},${xmxNE} ${ymxNE},${xmxNE} ${ymnNE},${xmnNE} ${ymnNE}))\"\n"
   ]
  },
  {
   "cell_type": "code",
   "execution_count": null,
   "metadata": {},
   "outputs": [],
   "source": [
    "URL = \"https://developer.nrel.gov/api/nsrdb/v2/site-count.json?api_key=ra5hzpJvFilKt4J9Krwlr5fkrdwLutyeBy7gA9vG&wkt=POLYGON((${xmnSE} ${ymnSE},${xmnSE} ${ymxSE},${xmxSE} ${ymxSE},${xmxSE} ${ymnSE},${xmnSE} ${ymnSE}))\"\n"
   ]
  },
  {
   "cell_type": "code",
   "execution_count": null,
   "metadata": {},
   "outputs": [],
   "source": [
    "URL = \"https://developer.nrel.gov/api/nsrdb/v2/site-count.json?api_key=ra5hzpJvFilKt4J9Krwlr5fkrdwLutyeBy7gA9vG&wkt=POLYGON((${xmnC} ${ymnC},${xmnC} ${ymxC},${xmxC} ${ymxC},${xmxC} ${ymnC},${xmnC} ${ymnC}))\"\n"
   ]
  },
  {
   "cell_type": "code",
   "execution_count": null,
   "metadata": {},
   "outputs": [],
   "source": [
    "URL = \"https://developer.nrel.gov/api/nsrdb/v2/site-count.json?api_key=ra5hzpJvFilKt4J9Krwlr5fkrdwLutyeBy7gA9vG&wkt=POLYGON((${xmnV} ${ymnV},${xmnV} ${ymxV},${xmxV} ${ymxV},${xmxV} ${ymnV},${xmnV} ${ymnV}))\"\n"
   ]
  }
 ],
 "metadata": {
  "kernelspec": {
   "display_name": "solarData",
   "language": "python",
   "name": "python3"
  },
  "language_info": {
   "codemirror_mode": {
    "name": "ipython",
    "version": 3
   },
   "file_extension": ".py",
   "mimetype": "text/x-python",
   "name": "python",
   "nbconvert_exporter": "python",
   "pygments_lexer": "ipython3",
   "version": "3.9.7"
  },
  "orig_nbformat": 4,
  "vscode": {
   "interpreter": {
    "hash": "26169997774188913528129c585e07895cdddee0c516055b04c1e80ef12a365c"
   }
  }
 },
 "nbformat": 4,
 "nbformat_minor": 2
}
